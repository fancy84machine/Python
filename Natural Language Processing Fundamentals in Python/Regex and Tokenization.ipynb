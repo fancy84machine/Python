{
 "cells": [
  {
   "cell_type": "code",
   "execution_count": 15,
   "metadata": {},
   "outputs": [
    {
     "name": "stdout",
     "output_type": "stream",
     "text": [
      "[\"Let's write RegEx\", \"  Won't that be fun\", '  I sure think so', '  Can you find 4 sentences', '  Or perhaps, all 19 words', '']\n",
      "['Let', 'RegEx', 'Won', 'Can', 'Or']\n",
      "[\"Let's\", 'write', 'RegEx!', \"Won't\", 'that', 'be', 'fun?', 'I', 'sure', 'think', 'so.', 'Can', 'you', 'find', '4', 'sentences?', 'Or', 'perhaps,', 'all', '19', 'words?']\n",
      "['4', '19']\n"
     ]
    }
   ],
   "source": [
    "#bookmark: https://campus.datacamp.com/courses/natural-language-processing-fundamentals-in-python/regular-expressions-word-tokenization?ex=6\n",
    "import matplotlib.pyplot as plt\n",
    "\n",
    "my_string = \"Let's write RegEx!  Won't that be fun?  I sure think so.  Can you find 4 sentences?  Or perhaps, all 19 words?\"\n",
    "\n",
    "# Import the regex module\n",
    "import re\n",
    "\n",
    "# Write a pattern to match sentence endings: sentence_endings\n",
    "sentence_endings = r\"[.?!]\"\n",
    "\n",
    "# Split my_string on sentence endings and print the result\n",
    "print(re.split(sentence_endings, my_string))\n",
    "\n",
    "# Find all capitalized words in my_string and print the result\n",
    "capitalized_words = r\"[A-Z]\\w+\"\n",
    "print(re.findall(capitalized_words, my_string))\n",
    "\n",
    "# Split my_string on spaces and print the result\n",
    "spaces = r\"\\s+\"\n",
    "print(re.split(spaces, my_string))\n",
    "\n",
    "# Find all digits in my_string and print the result\n",
    "digits = r\"\\d+\"\n",
    "print(re.findall(digits, my_string))\n"
   ]
  },
  {
   "cell_type": "code",
   "execution_count": null,
   "metadata": {
    "collapsed": true
   },
   "outputs": [],
   "source": []
  },
  {
   "cell_type": "code",
   "execution_count": 16,
   "metadata": {},
   "outputs": [
    {
     "data": {
      "text/plain": [
       "u\"SCENE 1: [wind] [clop clop clop] \\nKING ARTHUR: Whoa there!  [clop clop clop] \\nSOLDIER #1: Halt!  Who goes there?\\nARTHUR: It is I, Arthur, son of Uther Pendragon, from the castle of Camelot.  King of the Britons, defeator of the Saxons, sovereign of all England!\\nSOLDIER #1: Pull the other one!\\nARTHUR: I am, ...  and this is my trusty servant Patsy.  We have ridden the length and breadth of the land in search of knights who will join me in my court at Camelot.  I must speak with your lord and master.\\nSOLDIER #1: What?  Ridden on a horse?\\nARTHUR: Yes!\\nSOLDIER #1: You're using coconuts!\\nARTHUR: What?\\nSOLDIER #1: You've got two empty halves of coconut and you're bangin' 'em together.\\nARTHUR: So?  We have ridden since the snows of winter covered this land, through the kingdom of Mercea, through--\\nSOLDIER #1: Where'd you get the coconuts?\\nARTHUR: We found them.\\nSOLDIER #1: Found them?  In Mercea?  The coconut's tropical!\\nARTHUR: What do you mean?\\nSOLDIER #1: Well, this is a temperate zone.\\nARTHUR: The swallow may fly south with the sun or the house martin or the plover may seek warmer climes in winter, yet these are not strangers to our land?\\nSOLDIER #1: Are you suggesting coconuts migrate?\\nARTHUR: Not at all.  They could be carried.\\nSOLDIER #1: What?  A swallow carrying a coconut?\\nARTHUR: It could grip it by the husk!\\nSOLDIER #1: It's not a question of where he grips it!  It's a simple question of weight ratios!  A five ounce bird could not carry a one pound coconut.\\nARTHUR: Well, it doesn't matter.  Will you go and tell your master that Arthur from the Court of Camelot is here.\\nSOLDIER #1: Listen.  In order to maintain air-speed velocity, a swallow needs to beat its wings forty-three times every second, right?\\nARTHUR: Please!\\nSOLDIER #1: Am I right?\\nARTHUR: I'm not interested!\\nSOLDIER #2: It could be carried by an African swallow!\\nSOLDIER #1: Oh, yeah, an African swallow maybe, but not a European swallow.  That's my point.\\nSOLDIER #2: Oh, yeah, I agree with that.\\nARTHUR: Will you ask your master if he wants to join my court at Camelot?!\\nSOLDIER #1: But then of course a-- African swallows are non-migratory.\\nSOLDIER #2: Oh, yeah...\\nSOLDIER #1: So they couldn't bring a coconut back anyway...  [clop clop clop] \\nSOLDIER #2: Wait a minute!  Supposing two swallows carried it together?\\nSOLDIER #1: No, they'd have to have it on a line.\\nSOLDIER #2: Well, simple!  They'd just use a strand of creeper!\\nSOLDIER #1: What, held under the dorsal guiding feathers?\\nSOLDIER #2: Well, why not?\\n\""
      ]
     },
     "execution_count": 16,
     "metadata": {},
     "output_type": "execute_result"
    }
   ],
   "source": [
    "#set up string scene_one to be analyzed\n",
    "#from urllib2 import urlopen\n",
    "import urllib as u2\n",
    "import os\n",
    "\n",
    "#os.makedirs('tokenizers/punkt/PY3/')\n",
    "u2.urlretrieve('https://s3.amazonaws.com/assets.datacamp.com/production/course_3747/datasets/english_pickle.txt', 'tokenizers/punkt/PY3/english.pickle')\n",
    "holy_grail = u2.urlopen('https://s3.amazonaws.com/assets.datacamp.com/production/course_3747/datasets/grail.txt').read().decode('utf-8')\n",
    "scene_one = holy_grail[:holy_grail.find(\"SCENE 2\")]\n",
    "\n",
    "scene_one                                        "
   ]
  },
  {
   "cell_type": "code",
   "execution_count": 17,
   "metadata": {},
   "outputs": [
    {
     "data": {
      "text/plain": [
       "\"\\ndownload if necessary\\nimport nltk\\nnltk.download('punkt')\\n\\ndetails: https://stackoverflow.com/questions/4867197/failed-loading-english-pickle-with-nltk-data-load\\n\""
      ]
     },
     "execution_count": 17,
     "metadata": {},
     "output_type": "execute_result"
    }
   ],
   "source": [
    "'''\n",
    "download if necessary\n",
    "import nltk\n",
    "nltk.download('punkt')\n",
    "\n",
    "details: https://stackoverflow.com/questions/4867197/failed-loading-english-pickle-with-nltk-data-load\n",
    "'''"
   ]
  },
  {
   "cell_type": "code",
   "execution_count": 18,
   "metadata": {
    "collapsed": true,
    "scrolled": true
   },
   "outputs": [],
   "source": [
    "#Word tokenization with NLTK\n",
    "\n",
    "'''\n",
    "sent_tokenize: tokenize a document into sentences\n",
    "\n",
    "regexp_tokenize: tokenize a string or document based on a regular expression pattern\n",
    "e.g. regexp_tokenize(s2, r'[,\\.\\?!\"]\\s*', gaps=False)\n",
    "\n",
    "http://www.nltk.org/_modules/nltk/tokenize/regexp.html\n",
    "The function ``regexp_tokenize()`` takes the text as its\n",
    "first argument, and the regular expression pattern as its second\n",
    "argument.  This differs from the conventions used by Python's\n",
    "``re`` functions, where the pattern is always the first argument.\n",
    "(This is for consistency with the other NLTK tokenizers.)\n",
    "\n",
    "'''\n",
    "\n",
    "# Import necessary modules\n",
    "from nltk.tokenize import sent_tokenize\n",
    "from nltk.tokenize import word_tokenize\n",
    "from nltk.tokenize import regexp_tokenize\n",
    "\n",
    "# Split scene_one into sentences: sentences\n",
    "sentences = sent_tokenize(scene_one)\n"
   ]
  },
  {
   "cell_type": "code",
   "execution_count": 19,
   "metadata": {
    "scrolled": true
   },
   "outputs": [
    {
     "name": "stdout",
     "output_type": "stream",
     "text": [
      "set([u'breadth', u'all', u'just', u'What', u'course', u'clop', u'go', u'yet', u'European', u'Ridden', u'We', u'zone', u'No', u',', u'wings', u'to', u'ARTHUR', u'interested', u'strand', u'under', u'Not', u'lord', u'he', u'Wait', u'kingdom', u'...', u'them', u'SCENE', u'get', u'beat', u'swallows', u'anyway', u'five', u'they', u'not', u'using', u'son', u'Where', u'grips', u'minute', u'England', u'bring', u'servant', u'Pendragon', u\"'ve\", u'this', u'swallow', u'guiding', u'martin', u'through', u'air-speed', u'where', u'mean', u'right', u'weight', u'King', u'house', u'feathers', u'Uther', u'line', u'SOLDIER', u'second', u'husk', u'warmer', u'are', u'our', u'Whoa', u'Listen', u'KING', u'#', u'trusty', u\"'\", u'That', u'sun', u'since', u'its', u'strangers', u'halves', u'does', u'forty-three', u'goes', u'suggesting', u'got', u'bird', u'?', u'Are', u'Pull', u'use', u'here', u'Arthur', u'non-migratory', u'ratios', u'found', u'ask', u'[', u'by', u'every', u'on', u'search', u'carried', u'of', u'could', u'times', u'length', u'ounce', u'Yes', u'or', u'south', u'dorsal', u'point', u'simple', u\"n't\", u'Oh', u'African', u'Please', u'defeator', u'one', u'carry', u'Court', u'your', u\"'em\", u'speak', u'horse', u'from', u'may', u'there', u'question', u'sovereign', u'But', u'.', u'tropical', u'2', u'master', u'then', u':', u'tell', u'empty', u'wants', u'temperate', u'that', u'am', u'Well', u'snows', u'but', u'yeah', u'ridden', u'carrying', u'So', u'covered', u'Found', u'be', u'with', u'must', u'me', u'join', u'Camelot', u'Mercea', u'will', u'matter', u\"'re\", u'maybe', u'knights', u'my', u'agree', u'and', u'grip', u'coconut', u'pound', u'plover', u'do', u'migrate', u'is', u'Saxons', u'it', u'Patsy', u'an', u'fly', u'held', u'at', u'have', u'in', u'Britons', u'You', u'seek', u'if', u'!', u'these', u'needs', u'court', u'Halt', u'creeper', u'Who', u'climes', u'1', u'other', u'coconuts', u'They', u'Supposing', u'--', u'you', u'A', u\"'s\", u'I', u'why', u'who', u'Will', u\"'m\", u\"'d\", u'two', u'The', u']', u'castle', u'winter', u'a', u'land', u'bangin', u'Am', u'It', u'together', u'maintain', u'back', u'In', u'velocity', u'the', u'order', u'wind'])\n"
     ]
    }
   ],
   "source": [
    "# Use word_tokenize to tokenize the fourth sentence: tokenized_sent\n",
    "tokenized_sent = word_tokenize(sentences[3])\n",
    "\n",
    "# Make a set of unique tokens in the entire scene: unique_tokens\n",
    "unique_tokens = set(word_tokenize(scene_one))\n",
    "\n",
    "# Print the unique tokens result\n",
    "print(unique_tokens)"
   ]
  },
  {
   "cell_type": "code",
   "execution_count": 20,
   "metadata": {},
   "outputs": [
    {
     "name": "stdout",
     "output_type": "stream",
     "text": [
      "(580, 588)\n",
      "<_sre.SRE_Match object at 0x0000000005F88168>\n",
      "<_sre.SRE_Match object at 0x0000000005F88168>\n"
     ]
    }
   ],
   "source": [
    "#More regex with re.search()\n",
    "\n",
    "'''\n",
    "match: matches a pattern with a string. It takes the pattern as the first argument, the string as the second and returns a match object\n",
    "\n",
    "Difference between match and search:\n",
    " match will try and match a string from the beginning until it cannot match any longer\n",
    " \n",
    "Search will go through the ENTIRE string to look for match options. \n",
    "If you need to find a pattern that might not be at the beginning of the string, you should use search. \n",
    "If you want to be specific about the composition of the entire string, or at least the initial pattern, then you should use match.\n",
    "'''\n",
    "# Search for the first occurrence of \"coconuts\" in scene_one: match\n",
    "match = re.search(\"coconuts\", scene_one)\n",
    "\n",
    "# Print the start and end indexes of match\n",
    "print(match.start(), match.end())\n",
    "\n",
    "# Write a regular expression to search for anything in square brackets: pattern1\n",
    "pattern1 = r\"\\[.*\\]\"\n",
    "\n",
    "# Use re.search to find the first text in square brackets\n",
    "print(re.search(pattern1, scene_one))\n",
    "\n",
    "# Find the script notation at the beginning of the fourth sentence and print it\n",
    "pattern2 = r\"[\\w\\s]+:\"\n",
    "print(re.match(pattern2, sentences[3]))\n",
    "\n"
   ]
  },
  {
   "cell_type": "markdown",
   "metadata": {},
   "source": [
    "Use | for OR\n",
    "\n",
    "To use the or, define a group using parenthesis. Groups can be either a pattern or a set of characters you want to match. You can also define explicit character classes using square brackets.\n",
    "\n",
    "For example, \n",
    "match_digits_or_words = ('(\\d+|\\w+)')\n"
   ]
  },
  {
   "cell_type": "code",
   "execution_count": 21,
   "metadata": {},
   "outputs": [
    {
     "name": "stdout",
     "output_type": "stream",
     "text": [
      "[[u'This', u'is', u'the', u'best', u'#nlp', u'exercise', u'ive', u'found', u'online', u'!', u'#python'], [u'#NLP', u'is', u'super', u'fun', u'!', u'<3', u'#learning'], [u'Thanks', u'@datacamp', u':)', u'#nlp', u'#python']]\n"
     ]
    }
   ],
   "source": [
    "#Regex with NLTK tokenization - Twitter\n",
    "\n",
    "tweets = ['This is the best #nlp exercise ive found online! #python',\n",
    " '#NLP is super fun! <3 #learning',\n",
    " 'Thanks @datacamp :) #nlp #python']\n",
    "\n",
    "\n",
    "# Import the necessary modules\n",
    "from nltk.tokenize import regexp_tokenize\n",
    "from nltk.tokenize import TweetTokenizer\n",
    "\n",
    "# Define a regex pattern to find hashtags: pattern1\n",
    "pattern1 = r\"#\\w+\"\n",
    "\n",
    "# Use the pattern on the first tweet in the tweets list\n",
    "regexp_tokenize(tweets[0], pattern1)\n",
    "\n",
    "# Write a pattern that matches both mentions and hashtags\n",
    "pattern2 = r\"([@|#]\\w+)\"\n",
    "\n",
    "# Use the pattern on the last tweet in the tweets list\n",
    "regexp_tokenize(tweets[-1], pattern2)\n",
    "\n",
    "# Use the TweetTokenizer to tokenize all tweets into one list\n",
    "tknzr = TweetTokenizer()\n",
    "all_tokens = [tknzr.tokenize(t)  for t in tweets]\n",
    "print(all_tokens)\n"
   ]
  },
  {
   "cell_type": "code",
   "execution_count": 22,
   "metadata": {},
   "outputs": [
    {
     "data": {
      "image/png": "[encoded data removed]",
      "text/plain": [
       "<matplotlib.figure.Figure at 0xa7a7940>"
      ]
     },
     "metadata": {},
     "output_type": "display_data"
    }
   ],
   "source": [
    "#Charting practice\n",
    "'''\n",
    "from nltk.tokenize import regexp_tokenize\n",
    "from urllib.request import urlopen\n",
    "import re\n",
    "holy_grail = urlopen('https://s3.amazonaws.com/assets.datacamp.com/production/course_3747/datasets/grail.txt').read().decode('utf-8')\n",
    "'''\n",
    "\n",
    "# Split the script into lines: lines\n",
    "lines = holy_grail.split('\\n')\n",
    "\n",
    "# Replace all script lines for speaker\n",
    "pattern = \"[A-Z]{2,}(\\s)?(#\\d)?([A-Z]{2,})?:\"\n",
    "lines = [re.sub(pattern, '', l) for l in lines]\n",
    "\n",
    "# Tokenize each line: tokenized_lines\n",
    "tokenized_lines = [regexp_tokenize(s, \"\\w+\") for s in lines]\n",
    "\n",
    "# Make a frequency list of lengths: line_num_words\n",
    "line_num_words = [len(t_line) for t_line in tokenized_lines]\n",
    "\n",
    "# Plot a histogram of the line lengths\n",
    "plt.hist (line_num_words )\n",
    "\n",
    "# Show the plot\n",
    "plt.show()\n",
    "\n"
   ]
  },
  {
   "cell_type": "code",
   "execution_count": null,
   "metadata": {
    "collapsed": true
   },
   "outputs": [],
   "source": []
  }
 ],
 "metadata": {
  "kernelspec": {
   "display_name": "Python 2",
   "language": "python",
   "name": "python2"
  },
  "language_info": {
   "codemirror_mode": {
    "name": "ipython",
    "version": 2
   },
   "file_extension": ".py",
   "mimetype": "text/x-python",
   "name": "python",
   "nbconvert_exporter": "python",
   "pygments_lexer": "ipython2",
   "version": "2.7.14"
  }
 },
 "nbformat": 4,
 "nbformat_minor": 2
}
