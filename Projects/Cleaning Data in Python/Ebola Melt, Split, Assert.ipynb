{
 "cells": [
  {
   "cell_type": "code",
   "execution_count": 1,
   "metadata": {
    "collapsed": true
   },
   "outputs": [],
   "source": [
    "import pandas as pd\n",
    "import seaborn as sns\n",
    "import matplotlib.pyplot as plt\n",
    "import numpy as np\n",
    "import pandas as pd\n",
    "\n",
    "\n",
    "ebola = pd.read_csv ('ebola.csv', header=0)"
   ]
  },
  {
   "cell_type": "code",
   "execution_count": 2,
   "metadata": {},
   "outputs": [
    {
     "data": {
      "text/plain": [
       "Index([u'Date', u'Day', u'Cases_Guinea', u'Cases_Liberia',\n",
       "       u'Cases_SierraLeone', u'Cases_Nigeria', u'Cases_Senegal',\n",
       "       u'Cases_UnitedStates', u'Cases_Spain', u'Cases_Mali', u'Deaths_Guinea',\n",
       "       u'Deaths_Liberia', u'Deaths_SierraLeone', u'Deaths_Nigeria',\n",
       "       u'Deaths_Senegal', u'Deaths_UnitedStates', u'Deaths_Spain',\n",
       "       u'Deaths_Mali'],\n",
       "      dtype='object')"
      ]
     },
     "execution_count": 2,
     "metadata": {},
     "output_type": "execute_result"
    }
   ],
   "source": [
    "ebola.columns\n"
   ]
  },
  {
   "cell_type": "code",
   "execution_count": 3,
   "metadata": {},
   "outputs": [
    {
     "name": "stdout",
     "output_type": "stream",
     "text": [
      "         Date  Day  type_country  counts        str_split   type country\n",
      "0    1/5/2015  289  Cases_Guinea  2776.0  [Cases, Guinea]  Cases  Guinea\n",
      "1    1/4/2015  288  Cases_Guinea  2775.0  [Cases, Guinea]  Cases  Guinea\n",
      "2    1/3/2015  287  Cases_Guinea  2769.0  [Cases, Guinea]  Cases  Guinea\n",
      "3    1/2/2015  286  Cases_Guinea     NaN  [Cases, Guinea]  Cases  Guinea\n",
      "4  12/31/2014  284  Cases_Guinea  2730.0  [Cases, Guinea]  Cases  Guinea\n"
     ]
    }
   ],
   "source": [
    "#Splitting a column with .split() and .get()\n",
    "# Melt ebola: ebola_melt\n",
    "ebola_melt = pd.melt(ebola, id_vars=['Date', 'Day'], var_name='type_country', value_name='counts')\n",
    "\n",
    "# Create the 'str_split' column\n",
    "ebola_melt['str_split'] = ebola_melt.type_country.str.split('_')\n",
    "\n",
    "# Create the 'type' column\n",
    "ebola_melt['type'] = ebola_melt['str_split'].str.get(0)\n",
    "\n",
    "# Create the 'country' column\n",
    "ebola_melt['country'] = ebola_melt['str_split'].str.get(1)\n",
    "\n",
    "# Print the head of ebola_melt\n",
    "print(ebola_melt.head())\n"
   ]
  },
  {
   "cell_type": "code",
   "execution_count": 6,
   "metadata": {},
   "outputs": [
    {
     "data": {
      "text/plain": [
       "'\\n# Concatenate ebola_melt and status_country column-wise: ebola_tidy\\nebola_tidy = pd.concat ([ebola_melt, status_country], axis = 1)\\n\\n# Print the shape of ebola_tidy\\nprint(ebola_tidy.shape)\\n\\n# Print the head of ebola_tidy\\nprint(ebola_tidy.head())\\n\\n'"
      ]
     },
     "execution_count": 6,
     "metadata": {},
     "output_type": "execute_result"
    }
   ],
   "source": [
    "'''\n",
    "# Concatenate ebola_melt and status_country column-wise: ebola_tidy\n",
    "ebola_tidy = pd.concat ([ebola_melt, status_country], axis = 1)\n",
    "\n",
    "# Print the shape of ebola_tidy\n",
    "print(ebola_tidy.shape)\n",
    "\n",
    "# Print the head of ebola_tidy\n",
    "print(ebola_tidy.head())\n",
    "\n",
    "'''"
   ]
  },
  {
   "cell_type": "code",
   "execution_count": 9,
   "metadata": {},
   "outputs": [
    {
     "data": {
      "text/plain": [
       "'\\nall() method together with the .notnull() DataFrame method to check for missing values in a column. \\nThe .all() method returns True if all values are True. When used on a DataFrame, it returns a Series of Booleans - \\none for each column in the DataFrame. So if you are using it on a DataFrame, like in this exercise, you need to chain \\nanother .all() method so that you return only one True or False value. When using these within an assert statement, \\nnothing will be returned if the assert statement is true: This is how you can confirm that the data you are checking are valid.\\n\\nNote: You can use pd.notnull(df) as an alternative to df.notnull().\\n\\n\\n\\n# Assert that there are no missing values\\nassert pd.notnull (ebola).all().all()\\n\\n# Assert that all values are >= 0\\nassert (ebola>=0).all().all()\\n'"
      ]
     },
     "execution_count": 9,
     "metadata": {},
     "output_type": "execute_result"
    }
   ],
   "source": [
    "'''\n",
    "all() method together with the .notnull() DataFrame method to check for missing values in a column. \n",
    "The .all() method returns True if all values are True. When used on a DataFrame, it returns a Series of Booleans - \n",
    "one for each column in the DataFrame. So if you are using it on a DataFrame, like in this exercise, you need to chain \n",
    "another .all() method so that you return only one True or False value. When using these within an assert statement, \n",
    "nothing will be returned if the assert statement is true: This is how you can confirm that the data you are checking are valid.\n",
    "\n",
    "Note: You can use pd.notnull(df) as an alternative to df.notnull().\n",
    "\n",
    "\n",
    "\n",
    "# Assert that there are no missing values\n",
    "assert pd.notnull (ebola).all().all()\n",
    "\n",
    "# Assert that all values are >= 0\n",
    "assert (ebola>=0).all().all()\n",
    "'''\n",
    "\n",
    "\n"
   ]
  },
  {
   "cell_type": "code",
   "execution_count": null,
   "metadata": {},
   "outputs": [],
   "source": []
  },
  {
   "cell_type": "code",
   "execution_count": null,
   "metadata": {
    "collapsed": true
   },
   "outputs": [],
   "source": []
  }
 ],
 "metadata": {
  "kernelspec": {
   "display_name": "Python 2",
   "language": "python",
   "name": "python2"
  },
  "language_info": {
   "codemirror_mode": {
    "name": "ipython",
    "version": 2
   },
   "file_extension": ".py",
   "mimetype": "text/x-python",
   "name": "python",
   "nbconvert_exporter": "python",
   "pygments_lexer": "ipython2",
   "version": "2.7.14"
  }
 },
 "nbformat": 4,
 "nbformat_minor": 2
}
